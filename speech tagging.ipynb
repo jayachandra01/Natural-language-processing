{
 "cells": [
  {
   "cell_type": "code",
   "execution_count": 2,
   "id": "c0e67035",
   "metadata": {},
   "outputs": [],
   "source": [
    "from nltk.tokenize import sent_tokenize, word_tokenize\n"
   ]
  },
  {
   "cell_type": "code",
   "execution_count": 6,
   "id": "fcc81cdc",
   "metadata": {},
   "outputs": [],
   "source": [
    "ex = \"Time to get started with natural language processing. Python will make it easy!\"\n",
    "sent_tokens = sent_tokenize(ex)"
   ]
  },
  {
   "cell_type": "code",
   "execution_count": 7,
   "id": "d902c284",
   "metadata": {},
   "outputs": [
    {
     "data": {
      "text/plain": [
       "['Time to get started with natural language processing.',\n",
       " 'Python will make it easy!']"
      ]
     },
     "execution_count": 7,
     "metadata": {},
     "output_type": "execute_result"
    }
   ],
   "source": [
    "sent_tokens"
   ]
  },
  {
   "cell_type": "code",
   "execution_count": 8,
   "id": "894c3883",
   "metadata": {},
   "outputs": [
    {
     "data": {
      "text/plain": [
       "['Time',\n",
       " 'to',\n",
       " 'get',\n",
       " 'started',\n",
       " 'with',\n",
       " 'natural',\n",
       " 'language',\n",
       " 'processing',\n",
       " '.',\n",
       " 'Python',\n",
       " 'will',\n",
       " 'make',\n",
       " 'it',\n",
       " 'easy',\n",
       " '!']"
      ]
     },
     "execution_count": 8,
     "metadata": {},
     "output_type": "execute_result"
    }
   ],
   "source": [
    "word_tokens = word_tokenize(ex)\n",
    "word_tokens"
   ]
  },
  {
   "cell_type": "code",
   "execution_count": 10,
   "id": "11cd31c0",
   "metadata": {},
   "outputs": [],
   "source": [
    "from nltk.tag import pos_tag"
   ]
  },
  {
   "cell_type": "code",
   "execution_count": 11,
   "id": "a5d93904",
   "metadata": {},
   "outputs": [],
   "source": [
    "tags = pos_tag(word_tokens)"
   ]
  },
  {
   "cell_type": "code",
   "execution_count": 12,
   "id": "c2f47f74",
   "metadata": {},
   "outputs": [
    {
     "data": {
      "text/plain": [
       "[('Time', 'NN'),\n",
       " ('to', 'TO'),\n",
       " ('get', 'VB'),\n",
       " ('started', 'VBN'),\n",
       " ('with', 'IN'),\n",
       " ('natural', 'JJ'),\n",
       " ('language', 'NN'),\n",
       " ('processing', 'NN'),\n",
       " ('.', '.'),\n",
       " ('Python', 'NNP'),\n",
       " ('will', 'MD'),\n",
       " ('make', 'VB'),\n",
       " ('it', 'PRP'),\n",
       " ('easy', 'JJ'),\n",
       " ('!', '.')]"
      ]
     },
     "execution_count": 12,
     "metadata": {},
     "output_type": "execute_result"
    }
   ],
   "source": [
    "tags"
   ]
  },
  {
   "cell_type": "code",
   "execution_count": 13,
   "id": "9312b4b2",
   "metadata": {},
   "outputs": [],
   "source": [
    "import nltk"
   ]
  },
  {
   "cell_type": "code",
   "execution_count": 15,
   "id": "7f76c362",
   "metadata": {},
   "outputs": [
    {
     "name": "stdout",
     "output_type": "stream",
     "text": [
      "VB: verb, base form\n",
      "    ask assemble assess assign assume atone attention avoid bake balkanize\n",
      "    bank begin behold believe bend benefit bevel beware bless boil bomb\n",
      "    boost brace break bring broil brush build ...\n"
     ]
    }
   ],
   "source": [
    "nltk.help.upenn_tagset('VB')"
   ]
  },
  {
   "cell_type": "code",
   "execution_count": 16,
   "id": "7fa345dd",
   "metadata": {},
   "outputs": [],
   "source": [
    "list_of_tags = []"
   ]
  },
  {
   "cell_type": "code",
   "execution_count": 17,
   "id": "f518bb45",
   "metadata": {},
   "outputs": [],
   "source": [
    "for pair in tags:\n",
    "    list_of_tags.append(pair[1])"
   ]
  },
  {
   "cell_type": "code",
   "execution_count": 19,
   "id": "a7f5565a",
   "metadata": {},
   "outputs": [
    {
     "data": {
      "text/plain": [
       "['NNP', 'MD', 'TO', 'NN', 'PRP', '.', 'VB', 'VBN', 'JJ', 'IN']"
      ]
     },
     "execution_count": 19,
     "metadata": {},
     "output_type": "execute_result"
    }
   ],
   "source": [
    "list_of_tags = list(set(list_of_tags))\n",
    "list_of_tags"
   ]
  },
  {
   "cell_type": "code",
   "execution_count": 21,
   "id": "874b7eb2",
   "metadata": {},
   "outputs": [
    {
     "name": "stdout",
     "output_type": "stream",
     "text": [
      "NNP: noun, proper, singular\n",
      "    Motown Venneboerger Czestochwa Ranzer Conchita Trumplane Christos\n",
      "    Oceanside Escobar Kreisler Sawyer Cougar Yvette Ervin ODI Darryl CTCA\n",
      "    Shannon A.K.C. Meltex Liverpool ...\n",
      "None\n",
      "MD: modal auxiliary\n",
      "    can cannot could couldn't dare may might must need ought shall should\n",
      "    shouldn't will would\n",
      "None\n",
      "TO: \"to\" as preposition or infinitive marker\n",
      "    to\n",
      "None\n",
      "NN: noun, common, singular or mass\n",
      "    common-carrier cabbage knuckle-duster Casino afghan shed thermostat\n",
      "    investment slide humour falloff slick wind hyena override subhumanity\n",
      "    machinist ...\n",
      "None\n",
      "PRP: pronoun, personal\n",
      "    hers herself him himself hisself it itself me myself one oneself ours\n",
      "    ourselves ownself self she thee theirs them themselves they thou thy us\n",
      "None\n",
      ".: sentence terminator\n",
      "    . ! ?\n",
      "None\n",
      "VB: verb, base form\n",
      "    ask assemble assess assign assume atone attention avoid bake balkanize\n",
      "    bank begin behold believe bend benefit bevel beware bless boil bomb\n",
      "    boost brace break bring broil brush build ...\n",
      "None\n",
      "VBN: verb, past participle\n",
      "    multihulled dilapidated aerosolized chaired languished panelized used\n",
      "    experimented flourished imitated reunifed factored condensed sheared\n",
      "    unsettled primed dubbed desired ...\n",
      "None\n",
      "JJ: adjective or numeral, ordinal\n",
      "    third ill-mannered pre-war regrettable oiled calamitous first separable\n",
      "    ectoplasmic battery-powered participatory fourth still-to-be-named\n",
      "    multilingual multi-disciplinary ...\n",
      "None\n",
      "IN: preposition or conjunction, subordinating\n",
      "    astride among uppon whether out inside pro despite on by throughout\n",
      "    below within for towards near behind atop around if like until below\n",
      "    next into if beside ...\n",
      "None\n"
     ]
    }
   ],
   "source": [
    "for pos in list_of_tags:\n",
    "    print(nltk.help.upenn_tagset(pos))"
   ]
  },
  {
   "cell_type": "code",
   "execution_count": null,
   "id": "1be64159",
   "metadata": {},
   "outputs": [],
   "source": []
  }
 ],
 "metadata": {
  "kernelspec": {
   "display_name": "Python 3 (ipykernel)",
   "language": "python",
   "name": "python3"
  },
  "language_info": {
   "codemirror_mode": {
    "name": "ipython",
    "version": 3
   },
   "file_extension": ".py",
   "mimetype": "text/x-python",
   "name": "python",
   "nbconvert_exporter": "python",
   "pygments_lexer": "ipython3",
   "version": "3.11.5"
  }
 },
 "nbformat": 4,
 "nbformat_minor": 5
}
