{
 "cells": [
  {
   "cell_type": "code",
   "execution_count": 16,
   "id": "14084c52",
   "metadata": {},
   "outputs": [
    {
     "name": "stdout",
     "output_type": "stream",
     "text": [
      "Porter: ['call', 'me', 'ishmael', '.', 'some', 'year', 'ago', 'nevermind', 'how', 'long', 'precis', 'have', 'littl', 'or', 'no', 'money', 'in', 'my', 'purs', 'and', 'noth', 'particular', 'to', 'interest', 'me', 'on', 'shore', ',', 'i', 'thought', 'i', 'would', 'sail', 'about', 'a', 'littl', 'and', 'see', 'the', 'wateri', 'part', 'of', 'the', 'world', '.']\n",
      "Lancaster: ['cal', 'me', 'ishmael', '.', 'som', 'year', 'ago', 'nevermind', 'how', 'long', 'prec', 'hav', 'littl', 'or', 'no', 'money', 'in', 'my', 'purs', 'and', 'noth', 'particul', 'to', 'interest', 'me', 'on', 'shor', ',', 'i', 'thought', 'i', 'would', 'sail', 'about', 'a', 'littl', 'and', 'see', 'the', 'watery', 'part', 'of', 'the', 'world', '.']\n"
     ]
    },
    {
     "name": "stderr",
     "output_type": "stream",
     "text": [
      "[nltk_data] Downloading package punkt to\n",
      "[nltk_data]     C:\\Users\\jayac\\AppData\\Roaming\\nltk_data...\n",
      "[nltk_data]   Package punkt is already up-to-date!\n"
     ]
    }
   ],
   "source": [
    "\n",
    "import nltk\n",
    "from nltk.tokenize import word_tokenize\n",
    "\n",
    "nltk.download('punkt')\n",
    "\n",
    "raw = \"\"\"Call me Ishmael. Some years ago nevermind how long precisely having\n",
    "little or no money in my purse and nothing particular to interest me on shore,\n",
    "I thought I would sail about a little and see the watery part of the world.\"\"\"\n",
    "\n",
    "tokens = word_tokenize(raw)\n",
    "\n",
    "porter = nltk.PorterStemmer()  \n",
    "lancaster = nltk.LancasterStemmer()\n",
    "\n",
    "porter_stems = [porter.stem(t) for t in tokens]   \n",
    "lancaster_stems = [lancaster.stem(t) for t in tokens]\n",
    "\n",
    "print(\"Porter:\", porter_stems)\n",
    "print(\"Lancaster:\", lancaster_stems)\n",
    "\n"
   ]
  },
  {
   "cell_type": "raw",
   "id": "1574de4b",
   "metadata": {},
   "source": [
    "#Stemming is a method to reduce words to their base form known as a stem"
   ]
  },
  {
   "cell_type": "code",
   "execution_count": 17,
   "id": "71eaf709",
   "metadata": {},
   "outputs": [],
   "source": [
    "tokens = nltk.word_tokenize(raw)"
   ]
  },
  {
   "cell_type": "code",
   "execution_count": 18,
   "id": "0b2a53d5",
   "metadata": {},
   "outputs": [],
   "source": [
    "wnl = nltk.WordNetLemmatizer()"
   ]
  },
  {
   "cell_type": "code",
   "execution_count": 19,
   "id": "de21719d",
   "metadata": {},
   "outputs": [
    {
     "data": {
      "text/plain": [
       "['Call',\n",
       " 'me',\n",
       " 'Ishmael',\n",
       " '.',\n",
       " 'Some',\n",
       " 'year',\n",
       " 'ago',\n",
       " 'nevermind',\n",
       " 'how',\n",
       " 'long',\n",
       " 'precisely',\n",
       " 'having',\n",
       " 'little',\n",
       " 'or',\n",
       " 'no',\n",
       " 'money',\n",
       " 'in',\n",
       " 'my',\n",
       " 'purse',\n",
       " 'and',\n",
       " 'nothing',\n",
       " 'particular',\n",
       " 'to',\n",
       " 'interest',\n",
       " 'me',\n",
       " 'on',\n",
       " 'shore',\n",
       " ',',\n",
       " 'I',\n",
       " 'thought',\n",
       " 'I',\n",
       " 'would',\n",
       " 'sail',\n",
       " 'about',\n",
       " 'a',\n",
       " 'little',\n",
       " 'and',\n",
       " 'see',\n",
       " 'the',\n",
       " 'watery',\n",
       " 'part',\n",
       " 'of',\n",
       " 'the',\n",
       " 'world',\n",
       " '.']"
      ]
     },
     "execution_count": 19,
     "metadata": {},
     "output_type": "execute_result"
    }
   ],
   "source": [
    "[wnl.lemmatize(t) for t in tokens]"
   ]
  },
  {
   "cell_type": "code",
   "execution_count": null,
   "id": "dc17aa59",
   "metadata": {},
   "outputs": [],
   "source": [
    "#lemmatization however reduces words to their base dictionary form ulike stemming which can truncate words"
   ]
  }
 ],
 "metadata": {
  "kernelspec": {
   "display_name": "Python 3 (ipykernel)",
   "language": "python",
   "name": "python3"
  },
  "language_info": {
   "codemirror_mode": {
    "name": "ipython",
    "version": 3
   },
   "file_extension": ".py",
   "mimetype": "text/x-python",
   "name": "python",
   "nbconvert_exporter": "python",
   "pygments_lexer": "ipython3",
   "version": "3.11.5"
  }
 },
 "nbformat": 4,
 "nbformat_minor": 5
}
